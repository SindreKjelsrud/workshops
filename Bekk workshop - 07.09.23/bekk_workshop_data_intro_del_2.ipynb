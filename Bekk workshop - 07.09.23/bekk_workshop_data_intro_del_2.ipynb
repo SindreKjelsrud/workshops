{
  "nbformat": 4,
  "nbformat_minor": 0,
  "metadata": {
    "colab": {
      "provenance": []
    },
    "kernelspec": {
      "name": "python3",
      "display_name": "Python 3"
    },
    "language_info": {
      "name": "python"
    },
    "widgets": {
      "application/vnd.jupyter.widget-state+json": {
        "0c7807522cce466bb784f27a2d0121e6": {
          "model_module": "@jupyter-widgets/controls",
          "model_name": "HBoxModel",
          "model_module_version": "1.5.0",
          "state": {
            "_dom_classes": [],
            "_model_module": "@jupyter-widgets/controls",
            "_model_module_version": "1.5.0",
            "_model_name": "HBoxModel",
            "_view_count": null,
            "_view_module": "@jupyter-widgets/controls",
            "_view_module_version": "1.5.0",
            "_view_name": "HBoxView",
            "box_style": "",
            "children": [
              "IPY_MODEL_0d5ac1c03c704eb78f397f7f2b94fa2c",
              "IPY_MODEL_6c1fcb73aed64bd0a5e8069bcce0dfc9",
              "IPY_MODEL_14b941853d0d4754800f151691e2066b"
            ],
            "layout": "IPY_MODEL_4a1f54ede0934a4da502c1ebd445b052"
          }
        },
        "0d5ac1c03c704eb78f397f7f2b94fa2c": {
          "model_module": "@jupyter-widgets/controls",
          "model_name": "HTMLModel",
          "model_module_version": "1.5.0",
          "state": {
            "_dom_classes": [],
            "_model_module": "@jupyter-widgets/controls",
            "_model_module_version": "1.5.0",
            "_model_name": "HTMLModel",
            "_view_count": null,
            "_view_module": "@jupyter-widgets/controls",
            "_view_module_version": "1.5.0",
            "_view_name": "HTMLView",
            "description": "",
            "description_tooltip": null,
            "layout": "IPY_MODEL_c1a2dc75ff3f4b9c92c54c955fc20c97",
            "placeholder": "​",
            "style": "IPY_MODEL_8e20fc3422ef4c0880a38aa5db0f967b",
            "value": "Job ID 2546b3ac-430d-4f5b-8200-05d211f42300 successfully executed: 100%"
          }
        },
        "6c1fcb73aed64bd0a5e8069bcce0dfc9": {
          "model_module": "@jupyter-widgets/controls",
          "model_name": "FloatProgressModel",
          "model_module_version": "1.5.0",
          "state": {
            "_dom_classes": [],
            "_model_module": "@jupyter-widgets/controls",
            "_model_module_version": "1.5.0",
            "_model_name": "FloatProgressModel",
            "_view_count": null,
            "_view_module": "@jupyter-widgets/controls",
            "_view_module_version": "1.5.0",
            "_view_name": "ProgressView",
            "bar_style": "success",
            "description": "",
            "description_tooltip": null,
            "layout": "IPY_MODEL_15bcf71cedbe45598cdc72979c623357",
            "max": 1,
            "min": 0,
            "orientation": "horizontal",
            "style": "IPY_MODEL_6a1f5a431c3a47fc8abc8ed6a7bd1315",
            "value": 1
          }
        },
        "14b941853d0d4754800f151691e2066b": {
          "model_module": "@jupyter-widgets/controls",
          "model_name": "HTMLModel",
          "model_module_version": "1.5.0",
          "state": {
            "_dom_classes": [],
            "_model_module": "@jupyter-widgets/controls",
            "_model_module_version": "1.5.0",
            "_model_name": "HTMLModel",
            "_view_count": null,
            "_view_module": "@jupyter-widgets/controls",
            "_view_module_version": "1.5.0",
            "_view_name": "HTMLView",
            "description": "",
            "description_tooltip": null,
            "layout": "IPY_MODEL_04d51f26a039421488f7b4f5af59da8d",
            "placeholder": "​",
            "style": "IPY_MODEL_a40a5907f3754932a3426a35141861e0",
            "value": ""
          }
        },
        "4a1f54ede0934a4da502c1ebd445b052": {
          "model_module": "@jupyter-widgets/base",
          "model_name": "LayoutModel",
          "model_module_version": "1.2.0",
          "state": {
            "_model_module": "@jupyter-widgets/base",
            "_model_module_version": "1.2.0",
            "_model_name": "LayoutModel",
            "_view_count": null,
            "_view_module": "@jupyter-widgets/base",
            "_view_module_version": "1.2.0",
            "_view_name": "LayoutView",
            "align_content": null,
            "align_items": null,
            "align_self": null,
            "border": null,
            "bottom": null,
            "display": null,
            "flex": null,
            "flex_flow": null,
            "grid_area": null,
            "grid_auto_columns": null,
            "grid_auto_flow": null,
            "grid_auto_rows": null,
            "grid_column": null,
            "grid_gap": null,
            "grid_row": null,
            "grid_template_areas": null,
            "grid_template_columns": null,
            "grid_template_rows": null,
            "height": null,
            "justify_content": null,
            "justify_items": null,
            "left": null,
            "margin": null,
            "max_height": null,
            "max_width": null,
            "min_height": null,
            "min_width": null,
            "object_fit": null,
            "object_position": null,
            "order": null,
            "overflow": null,
            "overflow_x": null,
            "overflow_y": null,
            "padding": null,
            "right": null,
            "top": null,
            "visibility": null,
            "width": null
          }
        },
        "c1a2dc75ff3f4b9c92c54c955fc20c97": {
          "model_module": "@jupyter-widgets/base",
          "model_name": "LayoutModel",
          "model_module_version": "1.2.0",
          "state": {
            "_model_module": "@jupyter-widgets/base",
            "_model_module_version": "1.2.0",
            "_model_name": "LayoutModel",
            "_view_count": null,
            "_view_module": "@jupyter-widgets/base",
            "_view_module_version": "1.2.0",
            "_view_name": "LayoutView",
            "align_content": null,
            "align_items": null,
            "align_self": null,
            "border": null,
            "bottom": null,
            "display": null,
            "flex": null,
            "flex_flow": null,
            "grid_area": null,
            "grid_auto_columns": null,
            "grid_auto_flow": null,
            "grid_auto_rows": null,
            "grid_column": null,
            "grid_gap": null,
            "grid_row": null,
            "grid_template_areas": null,
            "grid_template_columns": null,
            "grid_template_rows": null,
            "height": null,
            "justify_content": null,
            "justify_items": null,
            "left": null,
            "margin": null,
            "max_height": null,
            "max_width": null,
            "min_height": null,
            "min_width": null,
            "object_fit": null,
            "object_position": null,
            "order": null,
            "overflow": null,
            "overflow_x": null,
            "overflow_y": null,
            "padding": null,
            "right": null,
            "top": null,
            "visibility": null,
            "width": null
          }
        },
        "8e20fc3422ef4c0880a38aa5db0f967b": {
          "model_module": "@jupyter-widgets/controls",
          "model_name": "DescriptionStyleModel",
          "model_module_version": "1.5.0",
          "state": {
            "_model_module": "@jupyter-widgets/controls",
            "_model_module_version": "1.5.0",
            "_model_name": "DescriptionStyleModel",
            "_view_count": null,
            "_view_module": "@jupyter-widgets/base",
            "_view_module_version": "1.2.0",
            "_view_name": "StyleView",
            "description_width": ""
          }
        },
        "15bcf71cedbe45598cdc72979c623357": {
          "model_module": "@jupyter-widgets/base",
          "model_name": "LayoutModel",
          "model_module_version": "1.2.0",
          "state": {
            "_model_module": "@jupyter-widgets/base",
            "_model_module_version": "1.2.0",
            "_model_name": "LayoutModel",
            "_view_count": null,
            "_view_module": "@jupyter-widgets/base",
            "_view_module_version": "1.2.0",
            "_view_name": "LayoutView",
            "align_content": null,
            "align_items": null,
            "align_self": null,
            "border": null,
            "bottom": null,
            "display": null,
            "flex": null,
            "flex_flow": null,
            "grid_area": null,
            "grid_auto_columns": null,
            "grid_auto_flow": null,
            "grid_auto_rows": null,
            "grid_column": null,
            "grid_gap": null,
            "grid_row": null,
            "grid_template_areas": null,
            "grid_template_columns": null,
            "grid_template_rows": null,
            "height": null,
            "justify_content": null,
            "justify_items": null,
            "left": null,
            "margin": null,
            "max_height": null,
            "max_width": null,
            "min_height": null,
            "min_width": null,
            "object_fit": null,
            "object_position": null,
            "order": null,
            "overflow": null,
            "overflow_x": null,
            "overflow_y": null,
            "padding": null,
            "right": null,
            "top": null,
            "visibility": null,
            "width": null
          }
        },
        "6a1f5a431c3a47fc8abc8ed6a7bd1315": {
          "model_module": "@jupyter-widgets/controls",
          "model_name": "ProgressStyleModel",
          "model_module_version": "1.5.0",
          "state": {
            "_model_module": "@jupyter-widgets/controls",
            "_model_module_version": "1.5.0",
            "_model_name": "ProgressStyleModel",
            "_view_count": null,
            "_view_module": "@jupyter-widgets/base",
            "_view_module_version": "1.2.0",
            "_view_name": "StyleView",
            "bar_color": null,
            "description_width": ""
          }
        },
        "04d51f26a039421488f7b4f5af59da8d": {
          "model_module": "@jupyter-widgets/base",
          "model_name": "LayoutModel",
          "model_module_version": "1.2.0",
          "state": {
            "_model_module": "@jupyter-widgets/base",
            "_model_module_version": "1.2.0",
            "_model_name": "LayoutModel",
            "_view_count": null,
            "_view_module": "@jupyter-widgets/base",
            "_view_module_version": "1.2.0",
            "_view_name": "LayoutView",
            "align_content": null,
            "align_items": null,
            "align_self": null,
            "border": null,
            "bottom": null,
            "display": null,
            "flex": null,
            "flex_flow": null,
            "grid_area": null,
            "grid_auto_columns": null,
            "grid_auto_flow": null,
            "grid_auto_rows": null,
            "grid_column": null,
            "grid_gap": null,
            "grid_row": null,
            "grid_template_areas": null,
            "grid_template_columns": null,
            "grid_template_rows": null,
            "height": null,
            "justify_content": null,
            "justify_items": null,
            "left": null,
            "margin": null,
            "max_height": null,
            "max_width": null,
            "min_height": null,
            "min_width": null,
            "object_fit": null,
            "object_position": null,
            "order": null,
            "overflow": null,
            "overflow_x": null,
            "overflow_y": null,
            "padding": null,
            "right": null,
            "top": null,
            "visibility": null,
            "width": null
          }
        },
        "a40a5907f3754932a3426a35141861e0": {
          "model_module": "@jupyter-widgets/controls",
          "model_name": "DescriptionStyleModel",
          "model_module_version": "1.5.0",
          "state": {
            "_model_module": "@jupyter-widgets/controls",
            "_model_module_version": "1.5.0",
            "_model_name": "DescriptionStyleModel",
            "_view_count": null,
            "_view_module": "@jupyter-widgets/base",
            "_view_module_version": "1.2.0",
            "_view_name": "StyleView",
            "description_width": ""
          }
        },
        "90e75ad72bf04c44adc08b6073d1c968": {
          "model_module": "@jupyter-widgets/controls",
          "model_name": "HBoxModel",
          "model_module_version": "1.5.0",
          "state": {
            "_dom_classes": [],
            "_model_module": "@jupyter-widgets/controls",
            "_model_module_version": "1.5.0",
            "_model_name": "HBoxModel",
            "_view_count": null,
            "_view_module": "@jupyter-widgets/controls",
            "_view_module_version": "1.5.0",
            "_view_name": "HBoxView",
            "box_style": "",
            "children": [
              "IPY_MODEL_63b2af0f18e54cc283a6ed2af859afc5",
              "IPY_MODEL_37a7796880054ff7a4b471b6b24381d9",
              "IPY_MODEL_38007184fefb4627b96b45f145bbdf3d"
            ],
            "layout": "IPY_MODEL_15010fb495584ae7805ae71e8e2f8fab"
          }
        },
        "63b2af0f18e54cc283a6ed2af859afc5": {
          "model_module": "@jupyter-widgets/controls",
          "model_name": "HTMLModel",
          "model_module_version": "1.5.0",
          "state": {
            "_dom_classes": [],
            "_model_module": "@jupyter-widgets/controls",
            "_model_module_version": "1.5.0",
            "_model_name": "HTMLModel",
            "_view_count": null,
            "_view_module": "@jupyter-widgets/controls",
            "_view_module_version": "1.5.0",
            "_view_name": "HTMLView",
            "description": "",
            "description_tooltip": null,
            "layout": "IPY_MODEL_ed34174ec843409696c62001774f365a",
            "placeholder": "​",
            "style": "IPY_MODEL_e58953eb864b47c9a52cb0fc2a7adb3d",
            "value": "Downloading: 100%"
          }
        },
        "37a7796880054ff7a4b471b6b24381d9": {
          "model_module": "@jupyter-widgets/controls",
          "model_name": "FloatProgressModel",
          "model_module_version": "1.5.0",
          "state": {
            "_dom_classes": [],
            "_model_module": "@jupyter-widgets/controls",
            "_model_module_version": "1.5.0",
            "_model_name": "FloatProgressModel",
            "_view_count": null,
            "_view_module": "@jupyter-widgets/controls",
            "_view_module_version": "1.5.0",
            "_view_name": "ProgressView",
            "bar_style": "success",
            "description": "",
            "description_tooltip": null,
            "layout": "IPY_MODEL_5ef7dec4886142c6860c75716a2c2932",
            "max": 5715392,
            "min": 0,
            "orientation": "horizontal",
            "style": "IPY_MODEL_12fb2920bc7247439b2b45c8c5e6aec6",
            "value": 5715392
          }
        },
        "38007184fefb4627b96b45f145bbdf3d": {
          "model_module": "@jupyter-widgets/controls",
          "model_name": "HTMLModel",
          "model_module_version": "1.5.0",
          "state": {
            "_dom_classes": [],
            "_model_module": "@jupyter-widgets/controls",
            "_model_module_version": "1.5.0",
            "_model_name": "HTMLModel",
            "_view_count": null,
            "_view_module": "@jupyter-widgets/controls",
            "_view_module_version": "1.5.0",
            "_view_name": "HTMLView",
            "description": "",
            "description_tooltip": null,
            "layout": "IPY_MODEL_a2e593f5c6c44df589ed6ebb4f54e5ee",
            "placeholder": "​",
            "style": "IPY_MODEL_327896229a0d4e5a94dd287c13d3455d",
            "value": ""
          }
        },
        "15010fb495584ae7805ae71e8e2f8fab": {
          "model_module": "@jupyter-widgets/base",
          "model_name": "LayoutModel",
          "model_module_version": "1.2.0",
          "state": {
            "_model_module": "@jupyter-widgets/base",
            "_model_module_version": "1.2.0",
            "_model_name": "LayoutModel",
            "_view_count": null,
            "_view_module": "@jupyter-widgets/base",
            "_view_module_version": "1.2.0",
            "_view_name": "LayoutView",
            "align_content": null,
            "align_items": null,
            "align_self": null,
            "border": null,
            "bottom": null,
            "display": null,
            "flex": null,
            "flex_flow": null,
            "grid_area": null,
            "grid_auto_columns": null,
            "grid_auto_flow": null,
            "grid_auto_rows": null,
            "grid_column": null,
            "grid_gap": null,
            "grid_row": null,
            "grid_template_areas": null,
            "grid_template_columns": null,
            "grid_template_rows": null,
            "height": null,
            "justify_content": null,
            "justify_items": null,
            "left": null,
            "margin": null,
            "max_height": null,
            "max_width": null,
            "min_height": null,
            "min_width": null,
            "object_fit": null,
            "object_position": null,
            "order": null,
            "overflow": null,
            "overflow_x": null,
            "overflow_y": null,
            "padding": null,
            "right": null,
            "top": null,
            "visibility": null,
            "width": null
          }
        },
        "ed34174ec843409696c62001774f365a": {
          "model_module": "@jupyter-widgets/base",
          "model_name": "LayoutModel",
          "model_module_version": "1.2.0",
          "state": {
            "_model_module": "@jupyter-widgets/base",
            "_model_module_version": "1.2.0",
            "_model_name": "LayoutModel",
            "_view_count": null,
            "_view_module": "@jupyter-widgets/base",
            "_view_module_version": "1.2.0",
            "_view_name": "LayoutView",
            "align_content": null,
            "align_items": null,
            "align_self": null,
            "border": null,
            "bottom": null,
            "display": null,
            "flex": null,
            "flex_flow": null,
            "grid_area": null,
            "grid_auto_columns": null,
            "grid_auto_flow": null,
            "grid_auto_rows": null,
            "grid_column": null,
            "grid_gap": null,
            "grid_row": null,
            "grid_template_areas": null,
            "grid_template_columns": null,
            "grid_template_rows": null,
            "height": null,
            "justify_content": null,
            "justify_items": null,
            "left": null,
            "margin": null,
            "max_height": null,
            "max_width": null,
            "min_height": null,
            "min_width": null,
            "object_fit": null,
            "object_position": null,
            "order": null,
            "overflow": null,
            "overflow_x": null,
            "overflow_y": null,
            "padding": null,
            "right": null,
            "top": null,
            "visibility": null,
            "width": null
          }
        },
        "e58953eb864b47c9a52cb0fc2a7adb3d": {
          "model_module": "@jupyter-widgets/controls",
          "model_name": "DescriptionStyleModel",
          "model_module_version": "1.5.0",
          "state": {
            "_model_module": "@jupyter-widgets/controls",
            "_model_module_version": "1.5.0",
            "_model_name": "DescriptionStyleModel",
            "_view_count": null,
            "_view_module": "@jupyter-widgets/base",
            "_view_module_version": "1.2.0",
            "_view_name": "StyleView",
            "description_width": ""
          }
        },
        "5ef7dec4886142c6860c75716a2c2932": {
          "model_module": "@jupyter-widgets/base",
          "model_name": "LayoutModel",
          "model_module_version": "1.2.0",
          "state": {
            "_model_module": "@jupyter-widgets/base",
            "_model_module_version": "1.2.0",
            "_model_name": "LayoutModel",
            "_view_count": null,
            "_view_module": "@jupyter-widgets/base",
            "_view_module_version": "1.2.0",
            "_view_name": "LayoutView",
            "align_content": null,
            "align_items": null,
            "align_self": null,
            "border": null,
            "bottom": null,
            "display": null,
            "flex": null,
            "flex_flow": null,
            "grid_area": null,
            "grid_auto_columns": null,
            "grid_auto_flow": null,
            "grid_auto_rows": null,
            "grid_column": null,
            "grid_gap": null,
            "grid_row": null,
            "grid_template_areas": null,
            "grid_template_columns": null,
            "grid_template_rows": null,
            "height": null,
            "justify_content": null,
            "justify_items": null,
            "left": null,
            "margin": null,
            "max_height": null,
            "max_width": null,
            "min_height": null,
            "min_width": null,
            "object_fit": null,
            "object_position": null,
            "order": null,
            "overflow": null,
            "overflow_x": null,
            "overflow_y": null,
            "padding": null,
            "right": null,
            "top": null,
            "visibility": null,
            "width": null
          }
        },
        "12fb2920bc7247439b2b45c8c5e6aec6": {
          "model_module": "@jupyter-widgets/controls",
          "model_name": "ProgressStyleModel",
          "model_module_version": "1.5.0",
          "state": {
            "_model_module": "@jupyter-widgets/controls",
            "_model_module_version": "1.5.0",
            "_model_name": "ProgressStyleModel",
            "_view_count": null,
            "_view_module": "@jupyter-widgets/base",
            "_view_module_version": "1.2.0",
            "_view_name": "StyleView",
            "bar_color": null,
            "description_width": ""
          }
        },
        "a2e593f5c6c44df589ed6ebb4f54e5ee": {
          "model_module": "@jupyter-widgets/base",
          "model_name": "LayoutModel",
          "model_module_version": "1.2.0",
          "state": {
            "_model_module": "@jupyter-widgets/base",
            "_model_module_version": "1.2.0",
            "_model_name": "LayoutModel",
            "_view_count": null,
            "_view_module": "@jupyter-widgets/base",
            "_view_module_version": "1.2.0",
            "_view_name": "LayoutView",
            "align_content": null,
            "align_items": null,
            "align_self": null,
            "border": null,
            "bottom": null,
            "display": null,
            "flex": null,
            "flex_flow": null,
            "grid_area": null,
            "grid_auto_columns": null,
            "grid_auto_flow": null,
            "grid_auto_rows": null,
            "grid_column": null,
            "grid_gap": null,
            "grid_row": null,
            "grid_template_areas": null,
            "grid_template_columns": null,
            "grid_template_rows": null,
            "height": null,
            "justify_content": null,
            "justify_items": null,
            "left": null,
            "margin": null,
            "max_height": null,
            "max_width": null,
            "min_height": null,
            "min_width": null,
            "object_fit": null,
            "object_position": null,
            "order": null,
            "overflow": null,
            "overflow_x": null,
            "overflow_y": null,
            "padding": null,
            "right": null,
            "top": null,
            "visibility": null,
            "width": null
          }
        },
        "327896229a0d4e5a94dd287c13d3455d": {
          "model_module": "@jupyter-widgets/controls",
          "model_name": "DescriptionStyleModel",
          "model_module_version": "1.5.0",
          "state": {
            "_model_module": "@jupyter-widgets/controls",
            "_model_module_version": "1.5.0",
            "_model_name": "DescriptionStyleModel",
            "_view_count": null,
            "_view_module": "@jupyter-widgets/base",
            "_view_module_version": "1.2.0",
            "_view_name": "StyleView",
            "description_width": ""
          }
        }
      }
    }
  },
  "cells": [
    {
      "cell_type": "markdown",
      "source": [
        "# **Workshop: Introduksjon til analyse, visualisering og modellering**\n",
        "\n",
        "**Du vil lære:**\n",
        "- Helt overordnet hva data og analyse er, hva det innebærer og hvordan det utføres i praksis\n",
        "- Å hente ut og jobbe med data fra Google BigQuery\n",
        "- Hvordan gå frem for å utforske og tolke et nytt datasett og et nytt forretningsdomene\n",
        "- Enkel modellering og visualisering\n",
        "\n",
        "\n",
        "Analyse, modellering og maskinlæring er store temaer som ikke kan dekkes hverken overfladisk eller dypt i én enkelt workshop. Likevel skal vi gjøre et forsøk på å introdusere noen sentrale elementer, samt få litt hands-on erfaring med et utvalgt datasett. Dataen vi skal se på stammer fra Oslo Bysykkel, og inneholder informasjon om turer fra April 2019 til April 2022. I tillegg er værdata introdusert som en potensielt interessant ytre faktor."
      ],
      "metadata": {
        "id": "idkQwqn4dvml"
      }
    },
    {
      "cell_type": "markdown",
      "source": [
        "# **Bolk 1: Laste data fra BigQuery** 👨🏻‍💻\n",
        "Før vi kan begynne med analyse må vi være i stand til å laste inn dataen i vårt foretrukne verktøy. For data lagret i moderne skytjenester, som f.eks Google BigQuery, har vi verktøy som gjør uthenting enklere.\n",
        "\n",
        "Som i forrige bolk er vi nødt til å sette opp litt for å komme i gang:\n",
        "\n",
        "1. Autentisere oss mot GCP\n",
        "2. Ta i bruk klienten\n",
        "3. Hente dataen fra BigQuery ned i en DataFrame\n",
        "\n",
        "Kjør alle kodesnuttene under"
      ],
      "metadata": {
        "id": "4fW8d4ALY1KS"
      }
    },
    {
      "cell_type": "code",
      "source": [
        "# Autentisering mot Google\n",
        "from google.colab import auth\n",
        "auth.authenticate_user()"
      ],
      "metadata": {
        "id": "ngu8MldARgg-"
      },
      "execution_count": null,
      "outputs": []
    },
    {
      "cell_type": "code",
      "source": [
        "# Initiere klienten og ta i bruk magics\n",
        "%load_ext google.cloud.bigquery\n",
        "from google.cloud.bigquery import magics\n",
        "magics.context.project = 'data-intro'"
      ],
      "metadata": {
        "id": "XiJS0FNxHxHL"
      },
      "execution_count": null,
      "outputs": []
    },
    {
      "cell_type": "code",
      "source": [
        "# Skrive vasket datasett ned til en DataFrame kalt df\n",
        "%%bigquery df\n",
        "SELECT * FROM `data-intro.bysykkel_main.bysykkel_med_værdata`"
      ],
      "metadata": {
        "id": "XTE2pHspHxpT",
        "colab": {
          "base_uri": "https://localhost:8080/",
          "height": 81,
          "referenced_widgets": [
            "0c7807522cce466bb784f27a2d0121e6",
            "0d5ac1c03c704eb78f397f7f2b94fa2c",
            "6c1fcb73aed64bd0a5e8069bcce0dfc9",
            "14b941853d0d4754800f151691e2066b",
            "4a1f54ede0934a4da502c1ebd445b052",
            "c1a2dc75ff3f4b9c92c54c955fc20c97",
            "8e20fc3422ef4c0880a38aa5db0f967b",
            "15bcf71cedbe45598cdc72979c623357",
            "6a1f5a431c3a47fc8abc8ed6a7bd1315",
            "04d51f26a039421488f7b4f5af59da8d",
            "a40a5907f3754932a3426a35141861e0",
            "90e75ad72bf04c44adc08b6073d1c968",
            "63b2af0f18e54cc283a6ed2af859afc5",
            "37a7796880054ff7a4b471b6b24381d9",
            "38007184fefb4627b96b45f145bbdf3d",
            "15010fb495584ae7805ae71e8e2f8fab",
            "ed34174ec843409696c62001774f365a",
            "e58953eb864b47c9a52cb0fc2a7adb3d",
            "5ef7dec4886142c6860c75716a2c2932",
            "12fb2920bc7247439b2b45c8c5e6aec6",
            "a2e593f5c6c44df589ed6ebb4f54e5ee",
            "327896229a0d4e5a94dd287c13d3455d"
          ]
        },
        "outputId": "ab732890-8dad-4300-d92d-7505b22dcbf6"
      },
      "execution_count": null,
      "outputs": [
        {
          "output_type": "display_data",
          "data": {
            "text/plain": [
              "Query is running:   0%|          |"
            ],
            "application/vnd.jupyter.widget-view+json": {
              "version_major": 2,
              "version_minor": 0,
              "model_id": "0c7807522cce466bb784f27a2d0121e6"
            }
          },
          "metadata": {}
        },
        {
          "output_type": "display_data",
          "data": {
            "text/plain": [
              "Downloading:   0%|          |"
            ],
            "application/vnd.jupyter.widget-view+json": {
              "version_major": 2,
              "version_minor": 0,
              "model_id": "90e75ad72bf04c44adc08b6073d1c968"
            }
          },
          "metadata": {}
        }
      ]
    },
    {
      "cell_type": "markdown",
      "source": [
        "# **Bolk 2: Innledende utforskning** 👩‍🔬\n",
        "I innledende fase av et data- og analyseprosjekt er det essensielt å forstå hva forretningsbehovet er, og hva datagrunnlaget inneholder. Allerede da vil en kunne besvare noen sentrale spørsmål innen analyse:\n",
        "- Er datagrunnlaget tilstrekkelig for å gjøre de analysene vi ønsker?\n",
        "- Er det vesentlige mangler eller rariteter i datagrunnlaget?\n",
        "- Hva vi tilstrekkelig forståelse av hvor dataen kommer fra, hvilke enheter og betydning hver kolonne har, og sammenhengen mellom kolonnene?\n",
        "- Hvilke transformasjoner kan være nyttige å gjøre? Hvilke nye, utledede kolonner kan være nyttige å introdusere?\n",
        "- Hvilke visualiserings- og modelleringsteknikker kan være aktuelle?\n",
        "\n",
        "Vi skal forsøke oss på å finne ut av og gjøre _noen_ av disse tingene. I tillegg skal vi lære litt Pandas-spesifikke kommandoer."
      ],
      "metadata": {
        "id": "AZpKUWrKR_i0"
      }
    },
    {
      "cell_type": "markdown",
      "source": [
        "## **Oppgave 2.1: Innebygde df-kommandoer**\n",
        "Her har dere en recap på samme cheat sheet dere så i forrige bolk:\n",
        "\n",
        "```python\n",
        "df.shape      # Dimensjon\n",
        "df.info()     # Oppsummering av størrelse og innhold\n",
        "df.describe() # Grunnleggende statistiske egenskaper\n",
        "df.head()     # Lister de første radene i datasettet\n",
        "df.tail()     # Lister de siste radene i datasettet\n",
        "```\n",
        "\n",
        "Bruk kommandoene over til å utforske datasettet du har lastet inn i forrige oppgave\n",
        "\n",
        "a) Hvor mange rader og hvor mange kolonner inneholder datasettet?\n",
        "\n",
        "b) Hva tror du enhet for kolonnene \"duration\", \"mean_temperature\" og \"precipitation_amount\" er?\n",
        "\n",
        "c) Hva er gjennomsnittlig varighet på en bysykkeltur?"
      ],
      "metadata": {
        "id": "aGLzxn3LVhcd"
      }
    },
    {
      "cell_type": "code",
      "source": [
        "df.info()\n",
        "#a)(5715392, 16)\n",
        "#b) sekunder (Int64), grader i decimal(float), nedbør i mm (float)\n",
        "#sum(df['duration'])/5715392"
      ],
      "metadata": {
        "id": "uE5nDTzUTda5",
        "colab": {
          "base_uri": "https://localhost:8080/"
        },
        "outputId": "b705ed16-0190-4a05-a170-6c0e0e3cb28a"
      },
      "execution_count": null,
      "outputs": [
        {
          "output_type": "stream",
          "name": "stdout",
          "text": [
            "<class 'pandas.core.frame.DataFrame'>\n",
            "RangeIndex: 5715392 entries, 0 to 5715391\n",
            "Data columns (total 16 columns):\n",
            " #   Column                     Dtype              \n",
            "---  ------                     -----              \n",
            " 0   started_at                 datetime64[ns, UTC]\n",
            " 1   ended_at                   datetime64[ns, UTC]\n",
            " 2   duration                   Int64              \n",
            " 3   start_station_id           Int64              \n",
            " 4   start_station_name         object             \n",
            " 5   start_station_description  object             \n",
            " 6   start_station_latitude     float64            \n",
            " 7   start_station_longitude    float64            \n",
            " 8   end_station_id             Int64              \n",
            " 9   end_station_name           object             \n",
            " 10  end_station_description    object             \n",
            " 11  end_station_latitude       float64            \n",
            " 12  end_station_longitude      float64            \n",
            " 13  date                       datetime64[ns, UTC]\n",
            " 14  mean_temperature           float64            \n",
            " 15  precipitation_amount       float64            \n",
            "dtypes: Int64(3), datetime64[ns, UTC](3), float64(6), object(4)\n",
            "memory usage: 714.0+ MB\n"
          ]
        }
      ]
    },
    {
      "cell_type": "code",
      "source": [
        "# TODO\n",
        "# Dine svar her\n",
        "\"\"\"\n",
        "Svar A: 5715392 rader og 16 kolonner\n",
        "Svar B: sekunder, celsius og nedbør\n",
        "Svar C: 781.3112\n",
        "\"\"\""
      ],
      "metadata": {
        "id": "ANWaVlyPPJES"
      },
      "execution_count": null,
      "outputs": []
    },
    {
      "cell_type": "code",
      "source": [
        "#@title Løsning Oppgave 2.1\n",
        "\n",
        "\"\"\"\n",
        "Svar A: Bruk df.shape eller df.info() - 5715392 rader, 16 kolonner\n",
        "Svar B: varighet (s), temperatur (C), nedbør (mm)\n",
        "Svar C: Bruk df.describe() - 781.3112 sekunder\n",
        "\"\"\""
      ],
      "metadata": {
        "id": "WpAgwfZ5MwdB",
        "cellView": "form"
      },
      "execution_count": null,
      "outputs": []
    },
    {
      "cell_type": "markdown",
      "source": [
        "# **Bolk 3: Analyse av grafer** 📈\n",
        "Analyse innebærer gjerne å omforme, gruppere og/eller filtrere data, for så å visualisere den, i håp om å besvare aktuelle spørsmål. Ofte er visualisering faktisk noe av de første oppgavene vi gjør for å få et mer helhetlig bilde av dataen vi har å jobbe med.\n",
        "\n",
        "I denne bolken jobber vi med noen enkle analyseoppgaver.\n",
        "\n",
        "> NB: Det er **ikke** viktig å forstå selve Python-koden for de kommende oppgavene i detalj.\n",
        "\n"
      ],
      "metadata": {
        "id": "IEnPeGxFPWX9"
      }
    },
    {
      "cell_type": "markdown",
      "source": [
        "## **Oppgave 3.1: Turer per time av døgnet**\n",
        "Kodeblokka under plotter antall turer hver time og for hvert år for hele datasettet. Kjør den, og svar på følgende:\n",
        "\n",
        "a) Hvilke timer på hhv. formiddagen og etttermiddagen er det flest turer? Virker dette logisk? Eventuelt hvorfor/hvorfor ikke?\n",
        "\n",
        "b) Antall turer i 2020 og 2021 er en del lavere enn i 2019. Hvorfor?\n",
        "\n",
        "c) Antall turer i 2022 er drastisk lavere enn tidligere år. Hvorfor?"
      ],
      "metadata": {
        "id": "VZBJnCzmYA_k"
      }
    },
    {
      "cell_type": "code",
      "source": [
        "df.groupby([df[\"started_at\"].dt.hour, df[\"started_at\"].dt.year]) \\\n",
        "  .size() \\\n",
        "  .unstack() \\\n",
        "  .plot(kind=\"bar\", figsize=(20,6), stacked=False, title=\"Sykkelturer gruppert på hel time og år\") \\\n",
        "  .legend(loc='center left', bbox_to_anchor=(1.0, 0.5))"
      ],
      "metadata": {
        "id": "smdo1TkuRsdO",
        "outputId": "44a1537b-a738-49e5-de7e-609ac1127af5",
        "colab": {
          "base_uri": "https://localhost:8080/",
          "height": 373
        }
      },
      "execution_count": null,
      "outputs": [
        {
          "output_type": "execute_result",
          "data": {
            "text/plain": [
              "<matplotlib.legend.Legend at 0x7948d7c6d9f0>"
            ]
          },
          "metadata": {},
          "execution_count": 14
        },
        {
          "output_type": "display_data",
          "data": {
            "text/plain": [
              "<Figure size 2000x600 with 1 Axes>"
            ],
            "image/png": "[encoded data removed]"
          },
          "metadata": {}
        }
      ]
    },
    {
      "cell_type": "code",
      "source": [
        "# TODO\n",
        "# Dine svar her\n",
        "\"\"\"\n",
        "Svar A: Ikke logisk, pga. det er i UTC-tid (det åpner ikke kl. 03 på natta)\n",
        "Svar B: Corona\n",
        "Svar C: Mindre data\n",
        "\"\"\""
      ],
      "metadata": {
        "id": "-0tdsstQUeXx"
      },
      "execution_count": null,
      "outputs": []
    },
    {
      "cell_type": "code",
      "source": [
        "#@title Løsning Oppgave 3.1\n",
        "\"\"\"\n",
        "Svar A: Ikke logisk, bysykkel åpner kl. 05 og stenger kl. 01\n",
        "        Se f.eks https://oslobysykkel.no/sporsmal-og-svar\n",
        "        Er i UTC-tid (to timer bak)\n",
        "Svar B: Pandemi + muligens videre utbredelse av elektriske sparkesykler\n",
        "Svar C: Vi har bare data tom. mai\n",
        "        Kan verifiseres med df['started_at'].max()\n",
        "\"\"\""
      ],
      "metadata": {
        "id": "BTEroCpzUesd"
      },
      "execution_count": null,
      "outputs": []
    },
    {
      "cell_type": "markdown",
      "source": [
        "## **Oppgave 3.2: Turer til og fra Skuret**\n",
        "Koden under produserer en graf over antall turer til og fra Vippetangen, gruppert på time på døgnet og retning. Vippetangen er nærmeste bysykkelstasjon for Bekk sine kontorer, bedre kjent som Skuret.\n",
        "\n",
        "Hva tenker du om grafen under? Hvilke realiteter kan forklare eventuelle mønster du ser?"
      ],
      "metadata": {
        "id": "1pAor7yzclSp"
      }
    },
    {
      "cell_type": "code",
      "source": [
        "df_vippetangen = df.query(\n",
        "    'end_station_name.str.contains(\"Vippetangen vest\") or '\n",
        "    'end_station_name.str.contains(\"Vippetangen øst\") or '\n",
        "    'start_station_name.str.contains(\"Vippetangen vest\") or '\n",
        "    'start_station_name.str.contains(\"Vippetangen øst\")'\n",
        ").copy()\n",
        "\n",
        "end_station_is_vippetangen = df_vippetangen['end_station_name'].str.contains(\"Vippetangen vest\") | df_vippetangen['end_station_name'].str.contains(\"Vippetangen øst\")\n",
        "\n",
        "df_vippetangen.groupby([\n",
        "    df_vippetangen[\"started_at\"].dt.hour,\n",
        "    end_station_is_vippetangen\n",
        "  ]) \\\n",
        "  .size() \\\n",
        "  .unstack() \\\n",
        "  .plot(kind=\"bar\", figsize=(20,6), stacked=False, title=\"Sykkelturer til eller fra Vippetangen, gruppert på time og retning\") \\\n",
        "  .legend([\"Fra Vippetangen\", \"Til Vippetangen\"], loc='center left', bbox_to_anchor=(1.0, 0.5))"
      ],
      "metadata": {
        "id": "XdfhdCY6Kdxo",
        "colab": {
          "base_uri": "https://localhost:8080/",
          "height": 361
        },
        "outputId": "15dc2a78-12f4-44d7-e92c-14e93c3b56bc"
      },
      "execution_count": null,
      "outputs": [
        {
          "output_type": "execute_result",
          "data": {
            "text/plain": [
              "<matplotlib.legend.Legend at 0x7948e616fd90>"
            ]
          },
          "metadata": {},
          "execution_count": 15
        },
        {
          "output_type": "display_data",
          "data": {
            "text/plain": [
              "<Figure size 2000x600 with 1 Axes>"
            ],
            "image/png": "[encoded data removed]"
          },
          "metadata": {}
        }
      ]
    },
    {
      "cell_type": "code",
      "source": [
        "# TODO\n",
        "# Dine svar her\n",
        "\"\"\"\n",
        "Gir mening med tanke på jobbhverdag\n",
        "\"\"\""
      ],
      "metadata": {
        "id": "Y_aeTqovd1pW"
      },
      "execution_count": null,
      "outputs": []
    },
    {
      "cell_type": "code",
      "source": [
        "#@title Løsning Oppgave 3.2\n",
        "\"\"\"\n",
        "Trafikken til Vippetangen på morgenen stemmer bra med når en\n",
        "kan se for seg at folk kommer på jobb (mellom 7 og 9)\n",
        "\n",
        "Trafikken til tar seg opp igjen utover ettermiddagen. For Bekk\n",
        "spesifikt kan dette tenkes å ha sammenheng med at folk fra diverse\n",
        "prosjekter reiser til Skuret for å være med på ettermiddagsarrangement,\n",
        "faggruppemøter o.l.\n",
        "\n",
        "Trafikken fra Vippetangen er nokså normalfordelt rundt kl. 16.\n",
        "Dette stemmer godt med når folk drar fra jobb\n",
        "\n",
        "Det er viktig å presisere at datagrunnlaget ikke gir noe _bevis_\n",
        "for det som nevnes over, men kan være aktuelle sammenhenger\n",
        "å utforske videre om stemmer eller ikke.\n",
        "\n",
        "Andre faktoer enn Bekk kan også være i spill. F.eks er det\n",
        "vanlig at stativene på Vippetangen er nokså tomme på morgenen.\n",
        "Videre fylles bysykkelstativet opp utover morgenen, som gjør at\n",
        "man ikke får parkert flere sykler der før det tømmes igjen.\n",
        "\"\"\""
      ],
      "metadata": {
        "id": "swRfpAnTd2Eb",
        "cellView": "form"
      },
      "execution_count": null,
      "outputs": []
    },
    {
      "cell_type": "markdown",
      "source": [
        "## **Oppgave 3.3: Turer til og fra Skuret cont.**\n",
        "\n",
        "I forrige oppgave fant vi en viss indikasjon på at folk (og da også Bekkere) benytter bysykkel til og fra Vippetangen i forbindelse med jobb. I denne oppgaven skal vi forsøke å få ytterligere bevis for eller mot dette.\n",
        "\n",
        "Koden under produserer to plott, som begge viser antall turer gruppert på ukedag og årstall:\n",
        "- Første plott viser turer til Skuret mellom 7 og 9, og turer fra Skuret mellom 15 og 17\n",
        "- Andre plott viser alle turer i hele Oslo, for hele døgnet\n",
        "\n",
        "a) Sammenlikn de to plottene. Hvilke mønster (og særlig evt. avvikende mønster) ser du? Hva kan disse eventuelle møstrene indikere?\n",
        "\n",
        "b) Tror du ansatte i Bekk står for *ingen*, *lite*, *noe*, *betydelig* eller *all* trafikk med bysykkel til og fra Vippetangen?\n",
        "\n",
        "**NB: koden kan ta en minutt eller to å kjøre, det er mange rader som må prosesseres 😇**"
      ],
      "metadata": {
        "id": "KaoN28_gYapL"
      }
    },
    {
      "cell_type": "code",
      "source": [
        "df['weekday'] = df['date'].dt.day_name()\n",
        "df_vippetangen = df.query(\n",
        "    \"(end_station_name.str.contains('Vippetangen vest') | end_station_name.str.contains('Vippetangen øst')) & (ended_at.dt.hour > 5) & (ended_at.dt.hour < 7) |\"\n",
        "    \"(start_station_name.str.contains('Vippetangen vest') | start_station_name.str.contains('Vippetangen øst')) & (started_at.dt.hour > 13) & (started_at.dt.hour < 15)\"\n",
        ")\n",
        "\n",
        "df_vippetangen.groupby([\"weekday\", df_vippetangen[\"started_at\"].dt.year]) \\\n",
        "  .size() \\\n",
        "  .unstack() \\\n",
        "  .plot(kind=\"bar\", stacked=False, title=\"Sykkelturer til og fra Vippetangen, etter ukedag og år\") \\\n",
        "  .legend(loc='center left', bbox_to_anchor=(1.0, 0.5))\n",
        "\n",
        "df.groupby([\"weekday\", df[\"started_at\"].dt.year]) \\\n",
        "  .size() \\\n",
        "  .unstack() \\\n",
        "  .plot(kind=\"bar\", stacked=False, title=\"Alle sykkelturer, etter ukedag og år\") \\\n",
        "  .legend(loc='center left', bbox_to_anchor=(1.0, 0.5))"
      ],
      "metadata": {
        "id": "QYvghMcFYbR7",
        "colab": {
          "base_uri": "https://localhost:8080/",
          "height": 1000
        },
        "outputId": "1d974191-d4bf-4aab-8ff8-d5eab3b7623d"
      },
      "execution_count": null,
      "outputs": [
        {
          "output_type": "execute_result",
          "data": {
            "text/plain": [
              "<matplotlib.legend.Legend at 0x7948d7c7b490>"
            ]
          },
          "metadata": {},
          "execution_count": 16
        },
        {
          "output_type": "display_data",
          "data": {
            "text/plain": [
              "<Figure size 640x480 with 1 Axes>"
            ],
            "image/png": "[encoded data removed]"
          },
          "metadata": {}
        },
        {
          "output_type": "display_data",
          "data": {
            "text/plain": [
              "<Figure size 640x480 with 1 Axes>"
            ],
            "image/png": "[encoded data removed]"
          },
          "metadata": {}
        }
      ]
    },
    {
      "cell_type": "code",
      "source": [
        "# TODO\n",
        "# Dine svar her\n",
        "\"\"\"\n",
        "Svar A:\n",
        "Svar B:\n",
        "\"\"\""
      ],
      "metadata": {
        "id": "Pk_k4Ha0tC-S",
        "colab": {
          "base_uri": "https://localhost:8080/",
          "height": 36
        },
        "outputId": "2e61c392-1f08-4483-cb96-a38c0d296266"
      },
      "execution_count": null,
      "outputs": [
        {
          "output_type": "execute_result",
          "data": {
            "text/plain": [
              "'\\nSvar A: Dette støtter teorien fra oppgave 3.2\\nSvar B: lite\\n'"
            ],
            "application/vnd.google.colaboratory.intrinsic+json": {
              "type": "string"
            }
          },
          "metadata": {},
          "execution_count": 17
        }
      ]
    },
    {
      "cell_type": "code",
      "source": [
        "#@title Løsning Oppgave 3.3\n",
        "\"\"\"\n",
        "Svar A: Nedgangen fra 2019 til 2020 ser ut til å være vesentlig større\n",
        "        for turer til og fra Vippetangen enn for øvrige turer.\n",
        "        Fra 2020 til 2021 er det _oppgang_ for Vippetangen, samtidig\n",
        "        som det er nedgang for øvrige turer.\n",
        "        Ettersom Bekk (og flere andre arbeidsgivere i Oslo) hadde\n",
        "        påbud om hjemmekontor i store deler av 2020 kan dette\n",
        "        være en indikasjon på at nedgangen skyldes bortfall av\n",
        "        jobbplendlere\n",
        "\n",
        "Svar B: Jeg ville sagt vi har noen indikasjoner siden differansen i\n",
        "        nedgang mellom helg og hverdag er nokså stor. Vi har likevel ingen\n",
        "        overveldende bevis på hvorfor, og det er også verdt å merke seg at\n",
        "        det finnes andre arbeidsgivere i nærheten som sikkert bruker de\n",
        "        samme sykkelstativene 🤓\n",
        "\"\"\""
      ],
      "metadata": {
        "id": "eNf1Uw5OtDKQ",
        "cellView": "form"
      },
      "execution_count": null,
      "outputs": []
    },
    {
      "cell_type": "markdown",
      "source": [
        "# **Bolk 4: Filtrering og transformering** 🚀\n",
        "Vi kan utføre en rekke operasjoner på en DataFrame, bl.a. filtere, transformere, fjerne, legge til, plotte, og mye mer. Videre følger noen eksempler som er relevante for akkurat denne workshopen.\n",
        "\n",
        "**Filtrere basert på kolonneverdier**:\n",
        "```python\n",
        "df[\n",
        "  (df[\"x\"] > a & df[\"y\"] < b) |\n",
        "  df[\"z\"] > c\n",
        "]\n",
        "```\n",
        "\n",
        "**Filtrering med .query()-operator**:\n",
        "```python\n",
        "a = 10\n",
        "b = 5\n",
        "c = 2\n",
        "df.query(\"(x > {a} and y < {b}) or z > c\")\n",
        "```\n",
        "\n",
        "**Gruppere data på kolonnerverdi**:\n",
        "```python\n",
        "df.groupby(\n",
        "  df[\"nrOfApartments\"]\n",
        ")\n",
        "```\n",
        "\n",
        "Vi kan finne størrelsen på hver gruppe med bruk av _.size()_-funksjonen:\n",
        "```python\n",
        "df.groupby(\n",
        "  df[\"nrOfApartments\"]\n",
        ").size()\n",
        "```"
      ],
      "metadata": {
        "id": "hr76G1lgAMW8"
      }
    },
    {
      "cell_type": "markdown",
      "source": [
        "## **Oppgave 4.1: Basic filtrering**\n",
        "Bruk kommandoene over til å svare på følgende:\n",
        "\n",
        "a) Hvor mange turer ble gjennomført i hele 2021?\n",
        "> **Hint:** Bolk 2 introduserte noen innebygde kommandoer som kan være nyttige her\n",
        "\n",
        "b) Hvor mange unike holdeplasser er det?"
      ],
      "metadata": {
        "id": "Ozu2ZNDKC0il"
      }
    },
    {
      "cell_type": "code",
      "source": [
        "df.describe()"
      ],
      "metadata": {
        "id": "PNXCiZXVDZJx",
        "colab": {
          "base_uri": "https://localhost:8080/",
          "height": 320
        },
        "outputId": "622d4626-5f11-4473-88cb-225895ea957d"
      },
      "execution_count": null,
      "outputs": [
        {
          "output_type": "execute_result",
          "data": {
            "text/plain": [
              "          duration  start_station_id  start_station_latitude  \\\n",
              "count    5715392.0         5715392.0            5.715392e+06   \n",
              "mean    781.311226        516.411435            5.992129e+01   \n",
              "std    5162.121142        178.822913            9.982860e-03   \n",
              "min           61.0             377.0            5.989813e+01   \n",
              "25%          345.0             431.0            5.991372e+01   \n",
              "50%          539.0             489.0            5.992022e+01   \n",
              "75%          845.0             563.0            5.992761e+01   \n",
              "max      8685730.0            2340.0            5.995341e+01   \n",
              "\n",
              "       start_station_longitude  end_station_id  end_station_latitude  \\\n",
              "count             5.715392e+06       5715392.0          5.715392e+06   \n",
              "mean              1.074531e+01      518.840918          5.991905e+01   \n",
              "std               2.346419e-02      182.043337          8.979482e-03   \n",
              "min               1.065112e+01           377.0          5.989813e+01   \n",
              "25%               1.073048e+01           437.0          5.991219e+01   \n",
              "50%               1.074975e+01           489.0          5.991748e+01   \n",
              "75%               1.076093e+01           561.0          5.992473e+01   \n",
              "max               1.081431e+01          2340.0          5.995341e+01   \n",
              "\n",
              "       end_station_longitude  mean_temperature  precipitation_amount  \n",
              "count           5.715392e+06      5.709430e+06          5.639920e+06  \n",
              "mean            1.074435e+01      1.361400e+01          2.282595e+00  \n",
              "std             2.244064e-02      6.158285e+00          5.514382e+00  \n",
              "min             1.065112e+01     -1.070000e+01          0.000000e+00  \n",
              "25%             1.073104e+01      9.600000e+00          0.000000e+00  \n",
              "50%             1.074968e+01      1.430000e+01          0.000000e+00  \n",
              "75%             1.075949e+01      1.800000e+01          1.700000e+00  \n",
              "max             1.081431e+01      2.680000e+01          4.370000e+01  "
            ],
            "text/html": [
              "\n",
              "  <div id=\"df-7aa26b54-9d28-410c-9a05-8afe571b570c\" class=\"colab-df-container\">\n",
              "    <div>\n",
              "<style scoped>\n",
              "    .dataframe tbody tr th:only-of-type {\n",
              "        vertical-align: middle;\n",
              "    }\n",
              "\n",
              "    .dataframe tbody tr th {\n",
              "        vertical-align: top;\n",
              "    }\n",
              "\n",
              "    .dataframe thead th {\n",
              "        text-align: right;\n",
              "    }\n",
              "</style>\n",
              "<table border=\"1\" class=\"dataframe\">\n",
              "  <thead>\n",
              "    <tr style=\"text-align: right;\">\n",
              "      <th></th>\n",
              "      <th>duration</th>\n",
              "      <th>start_station_id</th>\n",
              "      <th>start_station_latitude</th>\n",
              "      <th>start_station_longitude</th>\n",
              "      <th>end_station_id</th>\n",
              "      <th>end_station_latitude</th>\n",
              "      <th>end_station_longitude</th>\n",
              "      <th>mean_temperature</th>\n",
              "      <th>precipitation_amount</th>\n",
              "    </tr>\n",
              "  </thead>\n",
              "  <tbody>\n",
              "    <tr>\n",
              "      <th>count</th>\n",
              "      <td>5715392.0</td>\n",
              "      <td>5715392.0</td>\n",
              "      <td>5.715392e+06</td>\n",
              "      <td>5.715392e+06</td>\n",
              "      <td>5715392.0</td>\n",
              "      <td>5.715392e+06</td>\n",
              "      <td>5.715392e+06</td>\n",
              "      <td>5.709430e+06</td>\n",
              "      <td>5.639920e+06</td>\n",
              "    </tr>\n",
              "    <tr>\n",
              "      <th>mean</th>\n",
              "      <td>781.311226</td>\n",
              "      <td>516.411435</td>\n",
              "      <td>5.992129e+01</td>\n",
              "      <td>1.074531e+01</td>\n",
              "      <td>518.840918</td>\n",
              "      <td>5.991905e+01</td>\n",
              "      <td>1.074435e+01</td>\n",
              "      <td>1.361400e+01</td>\n",
              "      <td>2.282595e+00</td>\n",
              "    </tr>\n",
              "    <tr>\n",
              "      <th>std</th>\n",
              "      <td>5162.121142</td>\n",
              "      <td>178.822913</td>\n",
              "      <td>9.982860e-03</td>\n",
              "      <td>2.346419e-02</td>\n",
              "      <td>182.043337</td>\n",
              "      <td>8.979482e-03</td>\n",
              "      <td>2.244064e-02</td>\n",
              "      <td>6.158285e+00</td>\n",
              "      <td>5.514382e+00</td>\n",
              "    </tr>\n",
              "    <tr>\n",
              "      <th>min</th>\n",
              "      <td>61.0</td>\n",
              "      <td>377.0</td>\n",
              "      <td>5.989813e+01</td>\n",
              "      <td>1.065112e+01</td>\n",
              "      <td>377.0</td>\n",
              "      <td>5.989813e+01</td>\n",
              "      <td>1.065112e+01</td>\n",
              "      <td>-1.070000e+01</td>\n",
              "      <td>0.000000e+00</td>\n",
              "    </tr>\n",
              "    <tr>\n",
              "      <th>25%</th>\n",
              "      <td>345.0</td>\n",
              "      <td>431.0</td>\n",
              "      <td>5.991372e+01</td>\n",
              "      <td>1.073048e+01</td>\n",
              "      <td>437.0</td>\n",
              "      <td>5.991219e+01</td>\n",
              "      <td>1.073104e+01</td>\n",
              "      <td>9.600000e+00</td>\n",
              "      <td>0.000000e+00</td>\n",
              "    </tr>\n",
              "    <tr>\n",
              "      <th>50%</th>\n",
              "      <td>539.0</td>\n",
              "      <td>489.0</td>\n",
              "      <td>5.992022e+01</td>\n",
              "      <td>1.074975e+01</td>\n",
              "      <td>489.0</td>\n",
              "      <td>5.991748e+01</td>\n",
              "      <td>1.074968e+01</td>\n",
              "      <td>1.430000e+01</td>\n",
              "      <td>0.000000e+00</td>\n",
              "    </tr>\n",
              "    <tr>\n",
              "      <th>75%</th>\n",
              "      <td>845.0</td>\n",
              "      <td>563.0</td>\n",
              "      <td>5.992761e+01</td>\n",
              "      <td>1.076093e+01</td>\n",
              "      <td>561.0</td>\n",
              "      <td>5.992473e+01</td>\n",
              "      <td>1.075949e+01</td>\n",
              "      <td>1.800000e+01</td>\n",
              "      <td>1.700000e+00</td>\n",
              "    </tr>\n",
              "    <tr>\n",
              "      <th>max</th>\n",
              "      <td>8685730.0</td>\n",
              "      <td>2340.0</td>\n",
              "      <td>5.995341e+01</td>\n",
              "      <td>1.081431e+01</td>\n",
              "      <td>2340.0</td>\n",
              "      <td>5.995341e+01</td>\n",
              "      <td>1.081431e+01</td>\n",
              "      <td>2.680000e+01</td>\n",
              "      <td>4.370000e+01</td>\n",
              "    </tr>\n",
              "  </tbody>\n",
              "</table>\n",
              "</div>\n",
              "    <div class=\"colab-df-buttons\">\n",
              "\n",
              "  <div class=\"colab-df-container\">\n",
              "    <button class=\"colab-df-convert\" onclick=\"convertToInteractive('df-7aa26b54-9d28-410c-9a05-8afe571b570c')\"\n",
              "            title=\"Convert this dataframe to an interactive table.\"\n",
              "            style=\"display:none;\">\n",
              "\n",
              "  <svg xmlns=\"http://www.w3.org/2000/svg\" height=\"24px\" viewBox=\"0 -960 960 960\">\n",
              "    <path d=\"M120-120v-720h720v720H120Zm60-500h600v-160H180v160Zm220 220h160v-160H400v160Zm0 220h160v-160H400v160ZM180-400h160v-160H180v160Zm440 0h160v-160H620v160ZM180-180h160v-160H180v160Zm440 0h160v-160H620v160Z\"/>\n",
              "  </svg>\n",
              "    </button>\n",
              "\n",
              "  <style>\n",
              "    .colab-df-container {\n",
              "      display:flex;\n",
              "      gap: 12px;\n",
              "    }\n",
              "\n",
              "    .colab-df-convert {\n",
              "      background-color: #E8F0FE;\n",
              "      border: none;\n",
              "      border-radius: 50%;\n",
              "      cursor: pointer;\n",
              "      display: none;\n",
              "      fill: #1967D2;\n",
              "      height: 32px;\n",
              "      padding: 0 0 0 0;\n",
              "      width: 32px;\n",
              "    }\n",
              "\n",
              "    .colab-df-convert:hover {\n",
              "      background-color: #E2EBFA;\n",
              "      box-shadow: 0px 1px 2px rgba(60, 64, 67, 0.3), 0px 1px 3px 1px rgba(60, 64, 67, 0.15);\n",
              "      fill: #174EA6;\n",
              "    }\n",
              "\n",
              "    .colab-df-buttons div {\n",
              "      margin-bottom: 4px;\n",
              "    }\n",
              "\n",
              "    [theme=dark] .colab-df-convert {\n",
              "      background-color: #3B4455;\n",
              "      fill: #D2E3FC;\n",
              "    }\n",
              "\n",
              "    [theme=dark] .colab-df-convert:hover {\n",
              "      background-color: #434B5C;\n",
              "      box-shadow: 0px 1px 3px 1px rgba(0, 0, 0, 0.15);\n",
              "      filter: drop-shadow(0px 1px 2px rgba(0, 0, 0, 0.3));\n",
              "      fill: #FFFFFF;\n",
              "    }\n",
              "  </style>\n",
              "\n",
              "    <script>\n",
              "      const buttonEl =\n",
              "        document.querySelector('#df-7aa26b54-9d28-410c-9a05-8afe571b570c button.colab-df-convert');\n",
              "      buttonEl.style.display =\n",
              "        google.colab.kernel.accessAllowed ? 'block' : 'none';\n",
              "\n",
              "      async function convertToInteractive(key) {\n",
              "        const element = document.querySelector('#df-7aa26b54-9d28-410c-9a05-8afe571b570c');\n",
              "        const dataTable =\n",
              "          await google.colab.kernel.invokeFunction('convertToInteractive',\n",
              "                                                    [key], {});\n",
              "        if (!dataTable) return;\n",
              "\n",
              "        const docLinkHtml = 'Like what you see? Visit the ' +\n",
              "          '<a target=\"_blank\" href=https://colab.research.google.com/notebooks/data_table.ipynb>data table notebook</a>'\n",
              "          + ' to learn more about interactive tables.';\n",
              "        element.innerHTML = '';\n",
              "        dataTable['output_type'] = 'display_data';\n",
              "        await google.colab.output.renderOutput(dataTable, element);\n",
              "        const docLink = document.createElement('div');\n",
              "        docLink.innerHTML = docLinkHtml;\n",
              "        element.appendChild(docLink);\n",
              "      }\n",
              "    </script>\n",
              "  </div>\n",
              "\n",
              "\n",
              "<div id=\"df-5a318b92-3492-4959-bc4c-d61bf02fe10d\">\n",
              "  <button class=\"colab-df-quickchart\" onclick=\"quickchart('df-5a318b92-3492-4959-bc4c-d61bf02fe10d')\"\n",
              "            title=\"Suggest charts.\"\n",
              "            style=\"display:none;\">\n",
              "\n",
              "<svg xmlns=\"http://www.w3.org/2000/svg\" height=\"24px\"viewBox=\"0 0 24 24\"\n",
              "     width=\"24px\">\n",
              "    <g>\n",
              "        <path d=\"M19 3H5c-1.1 0-2 .9-2 2v14c0 1.1.9 2 2 2h14c1.1 0 2-.9 2-2V5c0-1.1-.9-2-2-2zM9 17H7v-7h2v7zm4 0h-2V7h2v10zm4 0h-2v-4h2v4z\"/>\n",
              "    </g>\n",
              "</svg>\n",
              "  </button>\n",
              "\n",
              "<style>\n",
              "  .colab-df-quickchart {\n",
              "      --bg-color: #E8F0FE;\n",
              "      --fill-color: #1967D2;\n",
              "      --hover-bg-color: #E2EBFA;\n",
              "      --hover-fill-color: #174EA6;\n",
              "      --disabled-fill-color: #AAA;\n",
              "      --disabled-bg-color: #DDD;\n",
              "  }\n",
              "\n",
              "  [theme=dark] .colab-df-quickchart {\n",
              "      --bg-color: #3B4455;\n",
              "      --fill-color: #D2E3FC;\n",
              "      --hover-bg-color: #434B5C;\n",
              "      --hover-fill-color: #FFFFFF;\n",
              "      --disabled-bg-color: #3B4455;\n",
              "      --disabled-fill-color: #666;\n",
              "  }\n",
              "\n",
              "  .colab-df-quickchart {\n",
              "    background-color: var(--bg-color);\n",
              "    border: none;\n",
              "    border-radius: 50%;\n",
              "    cursor: pointer;\n",
              "    display: none;\n",
              "    fill: var(--fill-color);\n",
              "    height: 32px;\n",
              "    padding: 0;\n",
              "    width: 32px;\n",
              "  }\n",
              "\n",
              "  .colab-df-quickchart:hover {\n",
              "    background-color: var(--hover-bg-color);\n",
              "    box-shadow: 0 1px 2px rgba(60, 64, 67, 0.3), 0 1px 3px 1px rgba(60, 64, 67, 0.15);\n",
              "    fill: var(--button-hover-fill-color);\n",
              "  }\n",
              "\n",
              "  .colab-df-quickchart-complete:disabled,\n",
              "  .colab-df-quickchart-complete:disabled:hover {\n",
              "    background-color: var(--disabled-bg-color);\n",
              "    fill: var(--disabled-fill-color);\n",
              "    box-shadow: none;\n",
              "  }\n",
              "\n",
              "  .colab-df-spinner {\n",
              "    border: 2px solid var(--fill-color);\n",
              "    border-color: transparent;\n",
              "    border-bottom-color: var(--fill-color);\n",
              "    animation:\n",
              "      spin 1s steps(1) infinite;\n",
              "  }\n",
              "\n",
              "  @keyframes spin {\n",
              "    0% {\n",
              "      border-color: transparent;\n",
              "      border-bottom-color: var(--fill-color);\n",
              "      border-left-color: var(--fill-color);\n",
              "    }\n",
              "    20% {\n",
              "      border-color: transparent;\n",
              "      border-left-color: var(--fill-color);\n",
              "      border-top-color: var(--fill-color);\n",
              "    }\n",
              "    30% {\n",
              "      border-color: transparent;\n",
              "      border-left-color: var(--fill-color);\n",
              "      border-top-color: var(--fill-color);\n",
              "      border-right-color: var(--fill-color);\n",
              "    }\n",
              "    40% {\n",
              "      border-color: transparent;\n",
              "      border-right-color: var(--fill-color);\n",
              "      border-top-color: var(--fill-color);\n",
              "    }\n",
              "    60% {\n",
              "      border-color: transparent;\n",
              "      border-right-color: var(--fill-color);\n",
              "    }\n",
              "    80% {\n",
              "      border-color: transparent;\n",
              "      border-right-color: var(--fill-color);\n",
              "      border-bottom-color: var(--fill-color);\n",
              "    }\n",
              "    90% {\n",
              "      border-color: transparent;\n",
              "      border-bottom-color: var(--fill-color);\n",
              "    }\n",
              "  }\n",
              "</style>\n",
              "\n",
              "  <script>\n",
              "    async function quickchart(key) {\n",
              "      const quickchartButtonEl =\n",
              "        document.querySelector('#' + key + ' button');\n",
              "      quickchartButtonEl.disabled = true;  // To prevent multiple clicks.\n",
              "      quickchartButtonEl.classList.add('colab-df-spinner');\n",
              "      try {\n",
              "        const charts = await google.colab.kernel.invokeFunction(\n",
              "            'suggestCharts', [key], {});\n",
              "      } catch (error) {\n",
              "        console.error('Error during call to suggestCharts:', error);\n",
              "      }\n",
              "      quickchartButtonEl.classList.remove('colab-df-spinner');\n",
              "      quickchartButtonEl.classList.add('colab-df-quickchart-complete');\n",
              "    }\n",
              "    (() => {\n",
              "      let quickchartButtonEl =\n",
              "        document.querySelector('#df-5a318b92-3492-4959-bc4c-d61bf02fe10d button');\n",
              "      quickchartButtonEl.style.display =\n",
              "        google.colab.kernel.accessAllowed ? 'block' : 'none';\n",
              "    })();\n",
              "  </script>\n",
              "</div>\n",
              "    </div>\n",
              "  </div>\n"
            ]
          },
          "metadata": {},
          "execution_count": 25
        }
      ]
    },
    {
      "cell_type": "code",
      "source": [
        "# TODO\n",
        "# Dine svar her\n",
        "\"\"\"\n",
        "Svar A:\n",
        "Svar B:\n",
        "\"\"\""
      ],
      "metadata": {
        "id": "_uJxQW1xDZJ5"
      },
      "execution_count": null,
      "outputs": []
    },
    {
      "cell_type": "code",
      "source": [
        "#@title Løsning Oppgave 4.1\n",
        "\n",
        "# A)\n",
        "df[(df[\"started_at\"] > '2020-12-31') & (df[\"ended_at\"] < '2022-01-01')].shape[0]\n",
        "\n",
        "# B)\n",
        "df.groupby(df[\"start_station_id\"]).size()\n",
        "\n",
        "\"\"\"\n",
        "Svar A: 1420010\n",
        "Svar B: 275\n",
        "\"\"\""
      ],
      "metadata": {
        "id": "O9kKryH5DZJ5",
        "cellView": "form",
        "colab": {
          "base_uri": "https://localhost:8080/",
          "height": 36
        },
        "outputId": "06b8bf9c-bf4e-4a27-d66c-7dcb7a98fb78"
      },
      "execution_count": null,
      "outputs": [
        {
          "output_type": "execute_result",
          "data": {
            "text/plain": [
              "'\\nSvar A: 1420010\\nSvar B: 275\\n'"
            ],
            "application/vnd.google.colaboratory.intrinsic+json": {
              "type": "string"
            }
          },
          "metadata": {},
          "execution_count": 18
        }
      ]
    },
    {
      "cell_type": "markdown",
      "source": [
        "## **Oppgave 4.2: Visualisering**\n",
        "For visualisering av data er det vanlig å bruke et bibliotek som heter Matplotlib. I denne workshoppen klarer vi oss med å benytte Pandas sin _plot_-funksjon (som også benytter Matplotlib).\n",
        "\n",
        "Hvilke type plott en bør velge avhenger av hva en ønsker å visualisere. Noen eksempler:\n",
        "- **bar** (sammenlikne grupperte verdier, f.eks antall sykkelturer per år)\n",
        "- **pie** (samme som over, men med en litt annen visualisering)\n",
        "- **scatter** (sammenlikne to ulike kolonneverdier, f.eks sammenhengen mellom temperatur og nedbør)\n",
        "- ... og flere andre som vi ikke går inn på nå\n",
        "\n",
        "Argumentet _figsize_ kan settes for å endre størrelse på visualiseringen\n",
        "\n",
        "**Bar-plot:**\n",
        "```python\n",
        "df.groupby(\n",
        "  df[\"some_column\"]\n",
        ").size().plot(kind=\"bar\", figsize=(20, 6))\n",
        "```\n",
        "Erstatt _\"bar\"_ med _\"pie\"_ for tilsvarende pie-plot\n",
        "\n",
        "**Scatter-plot:**\n",
        "```python\n",
        "df.plot(kind=\"scatter\", x=\"some_column_1\", y=\"some_column_2\")\n",
        "```"
      ],
      "metadata": {
        "id": "JO6Dz1CiVUze"
      }
    },
    {
      "cell_type": "markdown",
      "source": [
        "a) Lag et stolpediagram over antall turer *fra* de ti mest populære holdeplassene.\n",
        "\n",
        "> **Hint:** du kan sortere resultatet av et kall til .size()-funksjonen og hente de N første radene med ```size().sort_values(ascending=False)[:N]```  \n"
      ],
      "metadata": {
        "id": "_jeXic9kaGpb"
      }
    },
    {
      "cell_type": "code",
      "source": [
        "# Din kode her"
      ],
      "metadata": {
        "id": "28zGxMewHprE"
      },
      "execution_count": null,
      "outputs": []
    },
    {
      "cell_type": "markdown",
      "source": [
        "b) Lag et spredningsplott med longitude og latitude for startholdeplassen på hhv. x- og y-aksen\n",
        "\n",
        "> **Hint:** Å scatter-plotte alle radene i hele _df_ vil ta lang tid. Vi er kun interessert i ett punkt for hver holdeplass. Bruk derfor ```df.drop_duplicates(subset=[\"start_station_id\"])``` før kallet til plot-funksjonen"
      ],
      "metadata": {
        "id": "dRK8Q5V3xTma"
      }
    },
    {
      "cell_type": "code",
      "source": [
        "# Din kode her"
      ],
      "metadata": {
        "id": "msHFDu4FHttK"
      },
      "execution_count": null,
      "outputs": []
    },
    {
      "cell_type": "markdown",
      "source": [
        "Åpne kart over Oslo Bysykkel [sine holdeplasser](https://oslobysykkel.no/stasjoner). Ser du noen likheter med scatter-plottet du nettopp lagde?"
      ],
      "metadata": {
        "id": "2TfyA08sxZmR"
      }
    },
    {
      "cell_type": "code",
      "source": [
        "#@title Løsning Oppgave 4.2\n",
        "\n",
        "# A)\n",
        "df.groupby(\n",
        "  df[\"start_station_name\"]\n",
        ").size().sort_values(ascending=False)[:10].plot(kind=\"bar\", figsize=(20,6))\n",
        "\n",
        "# B)\n",
        "df.drop_duplicates(subset=[\"start_station_id\"]).plot(\n",
        "  kind=\"scatter\",\n",
        "  y=\"start_station_latitude\",\n",
        "  x=\"start_station_longitude\"\n",
        ")"
      ],
      "metadata": {
        "id": "SdZVyi8rHwRl",
        "cellView": "form"
      },
      "execution_count": null,
      "outputs": []
    },
    {
      "cell_type": "markdown",
      "source": [
        "## **Oppgave 4.3: Nedbør og antall turer hvert døgn**\n",
        "Under har vi laget en ny dataframe, *df_prec*, som inneholder tre kolonner med hhv. nedbør, dato og antall turer den datoen.\n",
        "\n",
        "Kjør kodeblokka under:"
      ],
      "metadata": {
        "id": "6WgOYeOnTD5i"
      }
    },
    {
      "cell_type": "code",
      "source": [
        "df_prec = df.groupby(\n",
        "    [\"precipitation_amount\", \"date\"]\n",
        "  ).size() \\\n",
        "  .to_frame(name=\"count\") \\\n",
        "  .reset_index()\n",
        "df_prec.head()"
      ],
      "metadata": {
        "id": "rEQI2aiyeXeM"
      },
      "execution_count": null,
      "outputs": []
    },
    {
      "cell_type": "markdown",
      "source": [
        "Man kan tenke seg at antallet turer som gjennomføres med bysykler er væravhengig. Nå som vi både har lært om filtrering _og_ visualisering kan vi kombinere dette for å gi oss et bedre inntrykk av sammenhengen mellom antallet turer og nedbørsmengde:\n",
        "\n",
        "a) Filtrer de radene med mer enn 1000 turer og mer enn 10mm nedbør, og plott punktene i et scatter-plot med antall turer på X-aksen og nedbørsmengde på Y-aksen"
      ],
      "metadata": {
        "id": "sx1qPI9ufNVe"
      }
    },
    {
      "cell_type": "code",
      "source": [
        "# TODO\n",
        "# Din kode her, oppgave a)"
      ],
      "metadata": {
        "id": "bCcIj99UeYXy"
      },
      "execution_count": null,
      "outputs": []
    },
    {
      "cell_type": "code",
      "source": [
        "#@title Løsning Oppgave 4.3 A\n",
        "\n",
        "df_prec[\n",
        "    (df_prec[\"count\"] > 1000) &\n",
        "    (df_prec[\"precipitation_amount\"] > 10)\n",
        "].plot(kind=\"scatter\", x=\"count\", y=\"precipitation_amount\")"
      ],
      "metadata": {
        "id": "7rG2xlLGUMlO",
        "cellView": "form"
      },
      "execution_count": null,
      "outputs": []
    },
    {
      "cell_type": "markdown",
      "source": [
        "b) Basert på plottet i forrige deloppgave, hva kan vi si om sammenhengen mellom nedbør og antall turer? Vil du påstå nedgangen i antall turer på dager med mye nedbør er større, lik eller mindre enn forventet?\n",
        "\n",
        "> **Hint:** Se f.eks etter outliers (punkter som skiller seg ut), mønster, trender og liknende  "
      ],
      "metadata": {
        "id": "88y7T7BWfPS8"
      }
    },
    {
      "cell_type": "code",
      "source": [
        "# TODO\n",
        "# Din kode her, oppgave b)"
      ],
      "metadata": {
        "id": "Dm_fVh3yeZ0S"
      },
      "execution_count": null,
      "outputs": []
    },
    {
      "cell_type": "code",
      "source": [
        "#@title Løsning Oppgave 4.3 B\n",
        "\n",
        "\"\"\"\n",
        "  Jeg vil påstå det er vesentlig flere dager enn\n",
        "  forventet med både mye nedbør og mange turer.\n",
        "  En ville forventet å se en drastisk nedgang i\n",
        "  antall turer på dager med mye regn.\n",
        "\n",
        "  En potensielt stor feilkilde i vårt datagrunnlag\n",
        "  er at turene foregår i nokså korte tidsrom, mens\n",
        "  nedbørsmengden er hentet fra en datakilde\n",
        "  som oppgir nedbør hvert hele døgn. Når på døgnet\n",
        "  og med hvilken intensitet nedbøret pågikk kan ha\n",
        "  vesentlig innvirkning på antall nedbørsfrie turer\n",
        "  den dagen, og dermed også totalt antall turer.\n",
        "\n",
        "  En annen variabel er at vi, basert på de overfladiske\n",
        "  undersøkelsene vi har gjort så langt, ikke vet noe\n",
        "  mer om dagene vi ville ansett som outliers i plottet.\n",
        "  Er det dager der en stor begivenhet pågikk?\n",
        "  Er det en hverdag, og dermed påvirket av pendlere\n",
        "  som sykler til/fra jobb uavhengig av vær?\n",
        "  Nærmere undersøkelser er nødvendig for å si noe\n",
        "  helt konkret.\n",
        "\n",
        "  ....\n",
        "\n",
        "  Akkurat i dette tilfellet kan vi derimot med sikkerhet\n",
        "  si at datagrunnlaget vårt er feil. Bakgrunnen for\n",
        "  dette er at de som sammenstilte dataen i ettertid\n",
        "  fant ut at nedbøren ikke er målt mellom kl. 00\n",
        "  hver dag, men mellom kl. 06. Dette gjør at\n",
        "  nedbørsmengden pr døgn er direkte feil... 🥲\n",
        "\n",
        "\"\"\""
      ],
      "metadata": {
        "id": "s82nzaHoZ0U0",
        "cellView": "form"
      },
      "execution_count": null,
      "outputs": []
    },
    {
      "cell_type": "markdown",
      "source": [
        "# Avsluttende ord 📝\n",
        "## Roller innen data og analyse\n",
        "Uten å kjenne bransjen kan det være litt uklart hvilke roller innen data og analyse som eksisterer. I forrige workshop om rollen som data engineer lærte du om prosessen med å samle inn, lagre, transformere og tilgjengeliggjøre data. Resultatet av denne prosessen er data av ulik kvalitet og på ulikt format, som kan benyttes av ulike konsumenter. Noen av disse er:\n",
        "- **Folk i ikke-tekniske roller**, f.eks forretningsanalytikere, som eksponeres for dataen via helintegrerte løsninger og/eller enkle grensesnitt. Disse har god forståelse av selskapets forretningsområde, og bruker data og analyse for å gjøre strategiske valg\n",
        "- **Dataanalytikere**, som visualiserer og bearbeider data for å finne statistiske sammenhenger og trender. Disse har behov for prosessert data av god kvalitet, men kan gjøre enkle transformasjoner og filtreringer selv\n",
        "- **Maskinlæringsteknikkere** (\"ML engineers\"), med behov for unbiased data til å trene, evaluere og tilgjengeliggjøre mer avanserte modeller og verktøy.\n",
        "- **Data scientists**, som arbeider på et dypere teknisk og teoretisk nivå enn dataanalytikerne. Større grad av autonomi, og behov for kontroll og fleksibilitet i datagrunnlaget. Forsøker gjerne å finne nye, innotivate måter å skape verdi fra data på\n",
        "\n",
        "Ulike virksomheter vil kreve ulike blandinger av disse rollene. Et forsøk på en slags kategorisering er som følger:\n",
        "- **Maskinlæring, modellering eller AI er en vesentlig del av kjerneproduktet.** Krever større andel data scientists og ML-engineers, for å utvikle state-of-the-art teknikker og trene modeller som kan rulles ut til produktene sine. Eksempel: Tesla, DeepMind\n",
        "- **Data er en vesentlig del av kjerneproduktet.** Krever større andel data engineer som kan tilgjengeliggjøre data, og forretningsutviklere som kan forstå kundenes databehov. F.eks: selskaper som leverer data-as-a-service, Unacast\n",
        "- **Data og modellering som essensielt verktøy for beslutningsstøtte.** Litt av alle roller. Typisk selskaper der data og analyse kan være et viktig verktøy for å understøtte selskapet forretningsutvikling og beslutningstaking, men ikke i seg selv er en del av kjernevirksomheten. Eksempel: forsikringsselskaper, banker, reklameselskaper mm.\n",
        "- **Som øvrig verktøy.** Data og analyse vil kunne gi verdi, men er lavere prioritert og utføres mer ad hoc. I mindre selskaper kan f.eks en utvikler ha birolle som data engineer, mens en annen har birolle som analytiker.\n",
        "\n",
        "## Hvordan komme i gang med data og analyse\n",
        "Det er vanskelig å gi noen universielle og konkrete råd, men:\n",
        "- Dersom du er interessert i en rolle som **analytiker** bør du bruke tid på å lære deg grunnleggende uthenting, transformasjon og visualisering, samt bli kjent med moderne verktøy som Google Data Studio, Microsoft Power BI og/eller Tableau.\n",
        "\n",
        "- Dersom du er interessert i **modellering og/eller data science** bør du tilegne deg en grunnleggende forståelse for statistikk, statistisk modellering og statistisk signifikans. Statistikk er helt essensielt i så godt som alle datadrevne metoder. Videre bør man bli kjent med kodepakker som f.eks pandas, keras, sklearn, tensorflow, og/eller pytorch."
      ],
      "metadata": {
        "id": "aTVLBD6dSguj"
      }
    }
  ]
}